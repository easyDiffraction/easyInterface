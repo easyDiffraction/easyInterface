{
  "cells": [
    {
      "cell_type": "code",
      "execution_count": null,
      "metadata": {
        "collapsed": false
      },
      "outputs": [],
      "source": [
        "%matplotlib inline"
      ]
    },
    {
      "cell_type": "markdown",
      "metadata": {},
      "source": [
        "\nCreating a QT interface\n=======================\n\nThis demonstrates an example of how to load an example and create a QT interface to a cryspy calculator. Information\nabout the project is then displayed.\n"
      ]
    },
    {
      "cell_type": "code",
      "execution_count": null,
      "metadata": {
        "collapsed": false
      },
      "outputs": [],
      "source": [
        "# import os\n#\n# from easyInterface.Utils.Helpers import getExamplesDir\n# from easyInterface.Diffraction.Calculators import CryspyCalculator\n# from easyInterface.Diffraction.QtInterface import QtCalculatorInterface\n#\n# data_dir = getExamplesDir()\n# main_rcif = os.path.join(data_dir, 'Fe3O4_powder-1d_neutrons-pol_5C1(LLB)', 'main.cif')\n# calculator = CryspyCalculator(main_rcif)\n#\n# interface = QtCalculatorInterface(calculator, None)\n#\n# print(interface.project_dict)\n#\n# print(interface.phasesIds())\n#\n# print(interface.getPhase(interface.phasesIds()[0]))"
      ]
    }
  ],
  "metadata": {
    "kernelspec": {
      "display_name": "Python 3",
      "language": "python",
      "name": "python3"
    },
    "language_info": {
      "codemirror_mode": {
        "name": "ipython",
        "version": 3
      },
      "file_extension": ".py",
      "mimetype": "text/x-python",
      "name": "python",
      "nbconvert_exporter": "python",
      "pygments_lexer": "ipython3",
      "version": "3.8.2"
    }
  },
  "nbformat": 4,
  "nbformat_minor": 0
}