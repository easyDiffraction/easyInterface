{
  "cells": [
    {
      "cell_type": "code",
      "execution_count": null,
      "metadata": {
        "collapsed": false
      },
      "outputs": [],
      "source": [
        "%matplotlib inline"
      ]
    },
    {
      "cell_type": "markdown",
      "metadata": {},
      "source": [
        "\nPerforming a fit\n================\nThis demonstrates an example of how to load an example and create a interface to a cryspy calculator and then fit a\nvalue.\n"
      ]
    },
    {
      "cell_type": "code",
      "execution_count": null,
      "metadata": {
        "collapsed": false
      },
      "outputs": [],
      "source": [
        "import os\nfrom easyInterface.Diffraction.Calculators import CryspyCalculator\nfrom easyInterface.Diffraction.Interface import CalculatorInterface\n\nmain_rcif = os.path.join('examples', 'PbSO4_powder-1d_neutrons-unpol_D1A(ILL)', 'main.cif')\ncalculator = CryspyCalculator(main_rcif)\n\ninterface = CalculatorInterface(calculator)\n\nprint(interface.project_dict)\n\nphase_ids = interface.phasesIds()\n\nprint(phase_ids)\n\nphase = interface.getPhase(phase_ids[0])\nphase['phasename'] = 'PbSO5'\ninterface.addPhase(phase)\ninterface.removePhase('PbSO5')\n\nphase = interface.getPhase(phase_ids[0])\ninterface.setPhaseValue(phase_ids[0], ['atoms', 'Pb', 'fract_x'], 0.18)\ninterface.setPhases(phase)\nprint(phase)\n\ninterface.setPhaseRefine(phase_ids[0], ['atoms', 'Pb', 'fract_x'], True)\n\n\ncalc = interface.getCalculations()\nprint(calc)\n\nres = interface.refine()\n\nprint(res)"
      ]
    }
  ],
  "metadata": {
    "kernelspec": {
      "display_name": "Python 3",
      "language": "python",
      "name": "python3"
    },
    "language_info": {
      "codemirror_mode": {
        "name": "ipython",
        "version": 3
      },
      "file_extension": ".py",
      "mimetype": "text/x-python",
      "name": "python",
      "nbconvert_exporter": "python",
      "pygments_lexer": "ipython3",
      "version": "3.8.1"
    }
  },
  "nbformat": 4,
  "nbformat_minor": 0
}