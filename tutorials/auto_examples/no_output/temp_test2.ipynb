{
  "cells": [
    {
      "cell_type": "code",
      "execution_count": null,
      "metadata": {
        "collapsed": false
      },
      "outputs": [],
      "source": [
        "%matplotlib inline"
      ]
    },
    {
      "cell_type": "markdown",
      "metadata": {},
      "source": [
        "\nCreating a QT interface\n=======================\n\nThis demonstrates an example of how to load an example and create a QT interface to a cryspy calculator. Information\nabout the project is then displayed.\n"
      ]
    },
    {
      "cell_type": "code",
      "execution_count": null,
      "metadata": {
        "collapsed": false
      },
      "outputs": [],
      "source": [
        "import os\n\nfrom easyInterface.Utils.Helpers import getExamplesDir\nfrom easyInterface.Diffraction.Calculators import CryspyCalculator\nfrom easyInterface.Diffraction.QtInterface import QtCalculatorInterface\n\ndata_dir = getExamplesDir()\nmain_rcif = os.path.join(data_dir, 'Fe3O4_powder-1d_neutrons-pol_5C1(LLB)', 'main.cif')\ncalculator = CryspyCalculator(main_rcif)\n\ninterface = QtCalculatorInterface(calculator, None)\n\nprint(interface.project_dict)\n\nprint(interface.phasesIds())\n\nprint(interface.getPhase(interface.phasesIds()[0]))"
      ]
    }
  ],
  "metadata": {
    "kernelspec": {
      "display_name": "Python 3",
      "language": "python",
      "name": "python3"
    },
    "language_info": {
      "codemirror_mode": {
        "name": "ipython",
        "version": 3
      },
      "file_extension": ".py",
      "mimetype": "text/x-python",
      "name": "python",
      "nbconvert_exporter": "python",
      "pygments_lexer": "ipython3",
      "version": "3.8.1"
    }
  },
  "nbformat": 4,
  "nbformat_minor": 0
}